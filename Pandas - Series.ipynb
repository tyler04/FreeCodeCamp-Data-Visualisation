{
  "cells": [
    {
      "cell_type": "markdown",
      "metadata": {
        "id": "DoLNRYZ-Pwna"
      },
      "source": [
        "![rmotr](https://user-images.githubusercontent.com/7065401/52071918-bda15380-2562-11e9-828c-7f95297e4a82.png)\n",
        "<hr style=\"margin-bottom: 40px;\">\n",
        "\n",
        "<img src=\"https://user-images.githubusercontent.com/7065401/75165824-badf4680-5701-11ea-9c5b-5475b0a33abf.png\"\n",
        "    style=\"width:300px; float: right; margin: 0 40px 40px 40px;\"></img>\n",
        "\n",
        "# Pandas - Series\n"
      ]
    },
    {
      "cell_type": "markdown",
      "metadata": {
        "id": "0ZqybsDCPwnb"
      },
      "source": [
        "![purple-divider](https://user-images.githubusercontent.com/7065401/52071927-c1cd7100-2562-11e9-908a-dde91ba14e59.png)\n",
        "\n",
        "## Hands on! "
      ]
    },
    {
      "cell_type": "code",
      "execution_count": 1,
      "metadata": {
        "id": "WxtW4mapPwnb"
      },
      "outputs": [],
      "source": [
        "import pandas as pd\n",
        "import numpy as np"
      ]
    },
    {
      "cell_type": "markdown",
      "metadata": {
        "id": "ZUyUNd4IPwnc"
      },
      "source": [
        "## Pandas Series\n",
        "\n",
        "We'll start analyzing \"[The Group of Seven](https://en.wikipedia.org/wiki/Group_of_Seven)\". Which is a political formed by Canada, France, Germany, Italy, Japan, the United Kingdom and the United States. We'll start by analyzing population, and for that, we'll use a `pandas.Series` object."
      ]
    },
    {
      "cell_type": "code",
      "execution_count": 2,
      "metadata": {
        "id": "1AH1hbHPPwnc"
      },
      "outputs": [],
      "source": [
        "# In millions\n",
        "g7_pop = pd.Series([35.467, 63.951, 80.940, 60.665, 127.061, 64.511, 318.523])"
      ]
    },
    {
      "cell_type": "code",
      "execution_count": 3,
      "metadata": {
        "scrolled": true,
        "id": "yCyYzF8XPwnc",
        "outputId": "7a1a77c6-79e8-4e0b-fe2a-e7aa5751f832",
        "colab": {
          "base_uri": "https://localhost:8080/"
        }
      },
      "outputs": [
        {
          "output_type": "execute_result",
          "data": {
            "text/plain": [
              "0     35.467\n",
              "1     63.951\n",
              "2     80.940\n",
              "3     60.665\n",
              "4    127.061\n",
              "5     64.511\n",
              "6    318.523\n",
              "dtype: float64"
            ]
          },
          "metadata": {},
          "execution_count": 3
        }
      ],
      "source": [
        "g7_pop"
      ]
    },
    {
      "cell_type": "markdown",
      "metadata": {
        "id": "-akaMxIePwnd"
      },
      "source": [
        "Someone might not know we're representing population in millions of inhabitants. Series can have a `name`, to better document the purpose of the Series:"
      ]
    },
    {
      "cell_type": "code",
      "execution_count": 4,
      "metadata": {
        "id": "1TIZN0fyPwnd"
      },
      "outputs": [],
      "source": [
        "g7_pop.name = 'G7 Population in millions'"
      ]
    },
    {
      "cell_type": "code",
      "execution_count": 5,
      "metadata": {
        "id": "pXkpnliHPwnd",
        "outputId": "5e73486e-0eaa-4459-c7d3-a77dd25cc00a",
        "colab": {
          "base_uri": "https://localhost:8080/"
        }
      },
      "outputs": [
        {
          "output_type": "execute_result",
          "data": {
            "text/plain": [
              "0     35.467\n",
              "1     63.951\n",
              "2     80.940\n",
              "3     60.665\n",
              "4    127.061\n",
              "5     64.511\n",
              "6    318.523\n",
              "Name: G7 Population in millions, dtype: float64"
            ]
          },
          "metadata": {},
          "execution_count": 5
        }
      ],
      "source": [
        "g7_pop"
      ]
    },
    {
      "cell_type": "markdown",
      "metadata": {
        "id": "hiIfnwYHPwne"
      },
      "source": [
        "Series are pretty similar to numpy arrays:"
      ]
    },
    {
      "cell_type": "code",
      "execution_count": 6,
      "metadata": {
        "id": "Nzkl2kLjPwne",
        "outputId": "5ac0a767-c5ce-4fe4-a58a-573d3fd0d955",
        "colab": {
          "base_uri": "https://localhost:8080/"
        }
      },
      "outputs": [
        {
          "output_type": "execute_result",
          "data": {
            "text/plain": [
              "dtype('float64')"
            ]
          },
          "metadata": {},
          "execution_count": 6
        }
      ],
      "source": [
        "g7_pop.dtype"
      ]
    },
    {
      "cell_type": "code",
      "execution_count": 7,
      "metadata": {
        "id": "KWp5p6y3Pwne",
        "outputId": "8a5f47b7-c0e7-47d4-f3f1-1c557c4d02e3",
        "colab": {
          "base_uri": "https://localhost:8080/"
        }
      },
      "outputs": [
        {
          "output_type": "execute_result",
          "data": {
            "text/plain": [
              "array([ 35.467,  63.951,  80.94 ,  60.665, 127.061,  64.511, 318.523])"
            ]
          },
          "metadata": {},
          "execution_count": 7
        }
      ],
      "source": [
        "g7_pop.values"
      ]
    },
    {
      "cell_type": "markdown",
      "metadata": {
        "id": "oBtHzljRPwne"
      },
      "source": [
        "They're actually backed by numpy arrays:"
      ]
    },
    {
      "cell_type": "code",
      "execution_count": 8,
      "metadata": {
        "id": "z3CYcZd4Pwne",
        "outputId": "46974418-88b3-4477-cb14-982b77ff153c",
        "colab": {
          "base_uri": "https://localhost:8080/"
        }
      },
      "outputs": [
        {
          "output_type": "execute_result",
          "data": {
            "text/plain": [
              "numpy.ndarray"
            ]
          },
          "metadata": {},
          "execution_count": 8
        }
      ],
      "source": [
        "type(g7_pop.values)"
      ]
    },
    {
      "cell_type": "markdown",
      "metadata": {
        "id": "bp4aBvgVPwnf"
      },
      "source": [
        "And they _look_ like simple Python lists or Numpy Arrays. But they're actually more similar to Python `dict`s.\n",
        "\n",
        "A Series has an `index`, that's similar to the automatic index assigned to Python's lists:"
      ]
    },
    {
      "cell_type": "code",
      "execution_count": 9,
      "metadata": {
        "id": "MRTiEwwFPwnf",
        "outputId": "ad6b52fc-6484-440f-e597-320599e32c90",
        "colab": {
          "base_uri": "https://localhost:8080/"
        }
      },
      "outputs": [
        {
          "output_type": "execute_result",
          "data": {
            "text/plain": [
              "0     35.467\n",
              "1     63.951\n",
              "2     80.940\n",
              "3     60.665\n",
              "4    127.061\n",
              "5     64.511\n",
              "6    318.523\n",
              "Name: G7 Population in millions, dtype: float64"
            ]
          },
          "metadata": {},
          "execution_count": 9
        }
      ],
      "source": [
        "g7_pop"
      ]
    },
    {
      "cell_type": "code",
      "execution_count": 10,
      "metadata": {
        "id": "IyubG20rPwnf",
        "outputId": "10bb0335-0040-4ac9-96ec-929ed7a0f4a2",
        "colab": {
          "base_uri": "https://localhost:8080/"
        }
      },
      "outputs": [
        {
          "output_type": "execute_result",
          "data": {
            "text/plain": [
              "35.467"
            ]
          },
          "metadata": {},
          "execution_count": 10
        }
      ],
      "source": [
        "g7_pop[0]"
      ]
    },
    {
      "cell_type": "code",
      "execution_count": 11,
      "metadata": {
        "id": "1t3avyHVPwnf",
        "outputId": "82562706-ea5e-4569-83b6-fa0ae42c8a2e",
        "colab": {
          "base_uri": "https://localhost:8080/"
        }
      },
      "outputs": [
        {
          "output_type": "execute_result",
          "data": {
            "text/plain": [
              "63.951"
            ]
          },
          "metadata": {},
          "execution_count": 11
        }
      ],
      "source": [
        "g7_pop[1]"
      ]
    },
    {
      "cell_type": "code",
      "execution_count": 12,
      "metadata": {
        "id": "5G5Z6LRdPwnf",
        "outputId": "2143a8e6-dabc-4fa8-8a77-ff320b5f4814",
        "colab": {
          "base_uri": "https://localhost:8080/"
        }
      },
      "outputs": [
        {
          "output_type": "execute_result",
          "data": {
            "text/plain": [
              "RangeIndex(start=0, stop=7, step=1)"
            ]
          },
          "metadata": {},
          "execution_count": 12
        }
      ],
      "source": [
        "g7_pop.index"
      ]
    },
    {
      "cell_type": "code",
      "execution_count": 13,
      "metadata": {
        "id": "oK_ugIF4Pwng"
      },
      "outputs": [],
      "source": [
        "l = ['a', 'b', 'c']"
      ]
    },
    {
      "cell_type": "markdown",
      "metadata": {
        "id": "6rsg4-NtPwng"
      },
      "source": [
        "But, in contrast to lists, we can explicitly define the index:"
      ]
    },
    {
      "cell_type": "code",
      "execution_count": 14,
      "metadata": {
        "id": "tSKxrx18Pwng"
      },
      "outputs": [],
      "source": [
        "g7_pop.index = [\n",
        "    'Canada',\n",
        "    'France',\n",
        "    'Germany',\n",
        "    'Italy',\n",
        "    'Japan',\n",
        "    'United Kingdom',\n",
        "    'United States',\n",
        "]"
      ]
    },
    {
      "cell_type": "code",
      "execution_count": 15,
      "metadata": {
        "id": "OWGs7FPDPwng",
        "outputId": "214c5b64-7709-4aa0-8a85-362b702c9baa",
        "colab": {
          "base_uri": "https://localhost:8080/"
        }
      },
      "outputs": [
        {
          "output_type": "execute_result",
          "data": {
            "text/plain": [
              "Canada             35.467\n",
              "France             63.951\n",
              "Germany            80.940\n",
              "Italy              60.665\n",
              "Japan             127.061\n",
              "United Kingdom     64.511\n",
              "United States     318.523\n",
              "Name: G7 Population in millions, dtype: float64"
            ]
          },
          "metadata": {},
          "execution_count": 15
        }
      ],
      "source": [
        "g7_pop"
      ]
    },
    {
      "cell_type": "markdown",
      "metadata": {
        "id": "8lcXiLj4Pwng"
      },
      "source": [
        "Compare it with the [following table](https://docs.google.com/spreadsheets/d/1IlorV2-Oh9Da1JAZ7weVw86PQrQydSMp-ydVMH135iI/edit?usp=sharing): \n",
        "\n",
        "<img width=\"350\" src=\"https://user-images.githubusercontent.com/872296/38149656-b5ce9816-3431-11e8-88e4-195756e25355.png\" />\n",
        "\n",
        "We can say that Series look like \"ordered dictionaries\". We can actually create Series out of dictionaries:"
      ]
    },
    {
      "cell_type": "code",
      "execution_count": 16,
      "metadata": {
        "scrolled": true,
        "id": "JECzqcqDPwng",
        "outputId": "f3028952-058b-4905-9128-2d996869fcb7",
        "colab": {
          "base_uri": "https://localhost:8080/"
        }
      },
      "outputs": [
        {
          "output_type": "execute_result",
          "data": {
            "text/plain": [
              "Canada             35.467\n",
              "France             63.951\n",
              "Germany            80.940\n",
              "Italy              60.665\n",
              "Japan             127.061\n",
              "United Kingdom     64.511\n",
              "United States     318.523\n",
              "Name: G7 Population in millions, dtype: float64"
            ]
          },
          "metadata": {},
          "execution_count": 16
        }
      ],
      "source": [
        "pd.Series({\n",
        "    'Canada': 35.467,\n",
        "    'France': 63.951,\n",
        "    'Germany': 80.94,\n",
        "    'Italy': 60.665,\n",
        "    'Japan': 127.061,\n",
        "    'United Kingdom': 64.511,\n",
        "    'United States': 318.523\n",
        "}, name='G7 Population in millions')"
      ]
    },
    {
      "cell_type": "code",
      "execution_count": 17,
      "metadata": {
        "id": "q2aIFqnvPwnh",
        "outputId": "c68250e8-c660-4446-baad-cfb00edde284",
        "colab": {
          "base_uri": "https://localhost:8080/"
        }
      },
      "outputs": [
        {
          "output_type": "execute_result",
          "data": {
            "text/plain": [
              "Canada             35.467\n",
              "France             63.951\n",
              "Germany            80.940\n",
              "Italy              60.665\n",
              "Japan             127.061\n",
              "United Kingdom     64.511\n",
              "United States     318.523\n",
              "Name: G7 Population in millions, dtype: float64"
            ]
          },
          "metadata": {},
          "execution_count": 17
        }
      ],
      "source": [
        "pd.Series(\n",
        "    [35.467, 63.951, 80.94, 60.665, 127.061, 64.511, 318.523],\n",
        "    index=['Canada', 'France', 'Germany', 'Italy', 'Japan', 'United Kingdom',\n",
        "       'United States'],\n",
        "    name='G7 Population in millions')"
      ]
    },
    {
      "cell_type": "markdown",
      "metadata": {
        "id": "oIZbxWioPwnh"
      },
      "source": [
        "You can also create Series out of other series, specifying indexes:"
      ]
    },
    {
      "cell_type": "code",
      "execution_count": 18,
      "metadata": {
        "id": "M6w0hMqjPwnh",
        "outputId": "f474a969-cdd4-4063-f40e-72afe5eb8d0a",
        "colab": {
          "base_uri": "https://localhost:8080/"
        }
      },
      "outputs": [
        {
          "output_type": "execute_result",
          "data": {
            "text/plain": [
              "France     63.951\n",
              "Germany    80.940\n",
              "Italy      60.665\n",
              "Spain         NaN\n",
              "Name: G7 Population in millions, dtype: float64"
            ]
          },
          "metadata": {},
          "execution_count": 18
        }
      ],
      "source": [
        "pd.Series(g7_pop, index=['France', 'Germany', 'Italy', 'Spain'])"
      ]
    },
    {
      "cell_type": "markdown",
      "metadata": {
        "id": "w9izii0rPwnh"
      },
      "source": [
        "![green-divider](https://user-images.githubusercontent.com/7065401/52071924-c003ad80-2562-11e9-8297-1c6595f8a7ff.png)\n",
        "\n",
        "## Indexing\n",
        "\n",
        "Indexing works similarly to lists and dictionaries, you use the **index** of the element you're looking for:"
      ]
    },
    {
      "cell_type": "code",
      "execution_count": 19,
      "metadata": {
        "id": "VZr2KCMZPwnh",
        "outputId": "dea6e85c-7db4-44fc-a1f3-01070fc585a0",
        "colab": {
          "base_uri": "https://localhost:8080/"
        }
      },
      "outputs": [
        {
          "output_type": "execute_result",
          "data": {
            "text/plain": [
              "Canada             35.467\n",
              "France             63.951\n",
              "Germany            80.940\n",
              "Italy              60.665\n",
              "Japan             127.061\n",
              "United Kingdom     64.511\n",
              "United States     318.523\n",
              "Name: G7 Population in millions, dtype: float64"
            ]
          },
          "metadata": {},
          "execution_count": 19
        }
      ],
      "source": [
        "g7_pop"
      ]
    },
    {
      "cell_type": "code",
      "execution_count": 20,
      "metadata": {
        "id": "EnUmWrOgPwnh",
        "outputId": "f6dc9ecb-7049-4867-eec5-c7f916d0a0eb",
        "colab": {
          "base_uri": "https://localhost:8080/"
        }
      },
      "outputs": [
        {
          "output_type": "execute_result",
          "data": {
            "text/plain": [
              "35.467"
            ]
          },
          "metadata": {},
          "execution_count": 20
        }
      ],
      "source": [
        "g7_pop['Canada']"
      ]
    },
    {
      "cell_type": "code",
      "execution_count": 21,
      "metadata": {
        "id": "XLOGmYynPwni",
        "outputId": "fd858f08-d64e-4f1a-b8da-a11b9af476a6",
        "colab": {
          "base_uri": "https://localhost:8080/"
        }
      },
      "outputs": [
        {
          "output_type": "execute_result",
          "data": {
            "text/plain": [
              "127.061"
            ]
          },
          "metadata": {},
          "execution_count": 21
        }
      ],
      "source": [
        "g7_pop['Japan']"
      ]
    },
    {
      "cell_type": "markdown",
      "metadata": {
        "id": "GAw7zzPZPwni"
      },
      "source": [
        "Numeric positions can also be used, with the `iloc` attribute:"
      ]
    },
    {
      "cell_type": "code",
      "execution_count": 22,
      "metadata": {
        "id": "Fp2wnI94Pwni",
        "outputId": "41c190f5-63f8-48eb-dcf4-242bee24762b",
        "colab": {
          "base_uri": "https://localhost:8080/"
        }
      },
      "outputs": [
        {
          "output_type": "execute_result",
          "data": {
            "text/plain": [
              "35.467"
            ]
          },
          "metadata": {},
          "execution_count": 22
        }
      ],
      "source": [
        "g7_pop.iloc[0]"
      ]
    },
    {
      "cell_type": "code",
      "execution_count": 23,
      "metadata": {
        "scrolled": true,
        "id": "UbfT80ldPwni",
        "outputId": "9c107855-d31a-4b06-b7c8-c1d9940ab0fd",
        "colab": {
          "base_uri": "https://localhost:8080/"
        }
      },
      "outputs": [
        {
          "output_type": "execute_result",
          "data": {
            "text/plain": [
              "318.523"
            ]
          },
          "metadata": {},
          "execution_count": 23
        }
      ],
      "source": [
        "g7_pop.iloc[-1]"
      ]
    },
    {
      "cell_type": "markdown",
      "metadata": {
        "id": "ACJc4HnePwni"
      },
      "source": [
        "Selecting multiple elements at once:"
      ]
    },
    {
      "cell_type": "code",
      "execution_count": 24,
      "metadata": {
        "scrolled": true,
        "id": "TJQn2DCcPwni",
        "outputId": "e382ba2f-a975-4b0c-e29a-179ce10b1083",
        "colab": {
          "base_uri": "https://localhost:8080/"
        }
      },
      "outputs": [
        {
          "output_type": "execute_result",
          "data": {
            "text/plain": [
              "Italy     60.665\n",
              "France    63.951\n",
              "Name: G7 Population in millions, dtype: float64"
            ]
          },
          "metadata": {},
          "execution_count": 24
        }
      ],
      "source": [
        "g7_pop[['Italy', 'France']]"
      ]
    },
    {
      "cell_type": "markdown",
      "metadata": {
        "id": "pST0WbMJPwni"
      },
      "source": [
        "_(The result is another Series)_"
      ]
    },
    {
      "cell_type": "code",
      "execution_count": 25,
      "metadata": {
        "scrolled": true,
        "id": "r1pLnfagPwni",
        "outputId": "08b39929-1183-467f-80ee-70e8ef63c8aa",
        "colab": {
          "base_uri": "https://localhost:8080/"
        }
      },
      "outputs": [
        {
          "output_type": "execute_result",
          "data": {
            "text/plain": [
              "Canada    35.467\n",
              "France    63.951\n",
              "Name: G7 Population in millions, dtype: float64"
            ]
          },
          "metadata": {},
          "execution_count": 25
        }
      ],
      "source": [
        "g7_pop.iloc[[0, 1]]"
      ]
    },
    {
      "cell_type": "markdown",
      "metadata": {
        "id": "RvG3vID1Pwnj"
      },
      "source": [
        "Slicing also works, but **important**, in Pandas, the upper limit is also included:"
      ]
    },
    {
      "cell_type": "code",
      "execution_count": 26,
      "metadata": {
        "id": "Qo9zg8FJPwnj",
        "outputId": "ae6bf12a-988a-4234-b888-2bf1def535d2",
        "colab": {
          "base_uri": "https://localhost:8080/"
        }
      },
      "outputs": [
        {
          "output_type": "execute_result",
          "data": {
            "text/plain": [
              "Canada     35.467\n",
              "France     63.951\n",
              "Germany    80.940\n",
              "Italy      60.665\n",
              "Name: G7 Population in millions, dtype: float64"
            ]
          },
          "metadata": {},
          "execution_count": 26
        }
      ],
      "source": [
        "g7_pop['Canada': 'Italy']"
      ]
    },
    {
      "cell_type": "markdown",
      "metadata": {
        "id": "Vi4Ka-jcPwnj"
      },
      "source": [
        "![green-divider](https://user-images.githubusercontent.com/7065401/52071924-c003ad80-2562-11e9-8297-1c6595f8a7ff.png)\n",
        "\n",
        "## Conditional selection (boolean arrays)\n",
        "\n",
        "The same boolean array techniques we saw applied to numpy arrays can be used for Pandas `Series`:"
      ]
    },
    {
      "cell_type": "code",
      "execution_count": 27,
      "metadata": {
        "id": "2j8JOZrhPwnj",
        "outputId": "d724effc-e562-40f0-dbc0-8e968d2e5a7d",
        "colab": {
          "base_uri": "https://localhost:8080/"
        }
      },
      "outputs": [
        {
          "output_type": "execute_result",
          "data": {
            "text/plain": [
              "Canada             35.467\n",
              "France             63.951\n",
              "Germany            80.940\n",
              "Italy              60.665\n",
              "Japan             127.061\n",
              "United Kingdom     64.511\n",
              "United States     318.523\n",
              "Name: G7 Population in millions, dtype: float64"
            ]
          },
          "metadata": {},
          "execution_count": 27
        }
      ],
      "source": [
        "g7_pop"
      ]
    },
    {
      "cell_type": "code",
      "execution_count": 28,
      "metadata": {
        "id": "w9-4QqZbPwnj",
        "outputId": "21da1dc7-c98f-4af2-e23b-1def9bba89f9",
        "colab": {
          "base_uri": "https://localhost:8080/"
        }
      },
      "outputs": [
        {
          "output_type": "execute_result",
          "data": {
            "text/plain": [
              "Canada            False\n",
              "France            False\n",
              "Germany            True\n",
              "Italy             False\n",
              "Japan              True\n",
              "United Kingdom    False\n",
              "United States      True\n",
              "Name: G7 Population in millions, dtype: bool"
            ]
          },
          "metadata": {},
          "execution_count": 28
        }
      ],
      "source": [
        "g7_pop > 70"
      ]
    },
    {
      "cell_type": "code",
      "execution_count": 29,
      "metadata": {
        "id": "i1eQwNc0Pwnj",
        "outputId": "1659dd71-698f-40f9-db51-d54e7c7d9730",
        "colab": {
          "base_uri": "https://localhost:8080/"
        }
      },
      "outputs": [
        {
          "output_type": "execute_result",
          "data": {
            "text/plain": [
              "Germany           80.940\n",
              "Japan            127.061\n",
              "United States    318.523\n",
              "Name: G7 Population in millions, dtype: float64"
            ]
          },
          "metadata": {},
          "execution_count": 29
        }
      ],
      "source": [
        "g7_pop[g7_pop > 70]"
      ]
    },
    {
      "cell_type": "code",
      "execution_count": 30,
      "metadata": {
        "id": "f8tExLkqPwnk",
        "outputId": "57bb5b13-6996-4389-951a-34c61a107bea",
        "colab": {
          "base_uri": "https://localhost:8080/"
        }
      },
      "outputs": [
        {
          "output_type": "execute_result",
          "data": {
            "text/plain": [
              "107.30257142857144"
            ]
          },
          "metadata": {},
          "execution_count": 30
        }
      ],
      "source": [
        "g7_pop.mean()"
      ]
    },
    {
      "cell_type": "code",
      "execution_count": 31,
      "metadata": {
        "id": "qV8e97sAPwnk",
        "outputId": "e21f10b3-9af0-4076-e5d9-7212347551cb",
        "colab": {
          "base_uri": "https://localhost:8080/"
        }
      },
      "outputs": [
        {
          "output_type": "execute_result",
          "data": {
            "text/plain": [
              "Japan            127.061\n",
              "United States    318.523\n",
              "Name: G7 Population in millions, dtype: float64"
            ]
          },
          "metadata": {},
          "execution_count": 31
        }
      ],
      "source": [
        "g7_pop[g7_pop > g7_pop.mean()]"
      ]
    },
    {
      "cell_type": "code",
      "execution_count": 32,
      "metadata": {
        "id": "T_qnaJmsPwnk",
        "outputId": "c0e5793d-8be7-4fbe-df5b-75cce269262d",
        "colab": {
          "base_uri": "https://localhost:8080/"
        }
      },
      "outputs": [
        {
          "output_type": "execute_result",
          "data": {
            "text/plain": [
              "97.24996987121581"
            ]
          },
          "metadata": {},
          "execution_count": 32
        }
      ],
      "source": [
        "g7_pop.std()"
      ]
    },
    {
      "cell_type": "code",
      "execution_count": 35,
      "metadata": {
        "scrolled": true,
        "id": "MDg0IMcfPwnk",
        "outputId": "2bccd941-ba11-456f-b68b-32733f498e39",
        "colab": {
          "base_uri": "https://localhost:8080/"
        }
      },
      "outputs": [
        {
          "output_type": "execute_result",
          "data": {
            "text/plain": [
              "France             63.951\n",
              "Germany            80.940\n",
              "Italy              60.665\n",
              "Japan             127.061\n",
              "United Kingdom     64.511\n",
              "United States     318.523\n",
              "Name: G7 Population in millions, dtype: float64"
            ]
          },
          "metadata": {},
          "execution_count": 35
        }
      ],
      "source": [
        "g7_pop[(g7_pop > g7_pop.mean() - g7_pop.std() / 2) | (g7_pop > g7_pop.mean() + g7_pop.std() / 2)]"
      ]
    },
    {
      "cell_type": "markdown",
      "metadata": {
        "id": "28r4DV96Pwnk"
      },
      "source": [
        "![green-divider](https://user-images.githubusercontent.com/7065401/52071924-c003ad80-2562-11e9-8297-1c6595f8a7ff.png)\n",
        "\n",
        "## Operations and methods\n",
        "Series also support vectorized operations and aggregation functions as Numpy:"
      ]
    },
    {
      "cell_type": "code",
      "execution_count": 36,
      "metadata": {
        "id": "g_WSXC-EPwnk",
        "outputId": "a9536b26-1584-4552-85e8-23468dd1755a",
        "colab": {
          "base_uri": "https://localhost:8080/"
        }
      },
      "outputs": [
        {
          "output_type": "execute_result",
          "data": {
            "text/plain": [
              "Canada             35.467\n",
              "France             63.951\n",
              "Germany            80.940\n",
              "Italy              60.665\n",
              "Japan             127.061\n",
              "United Kingdom     64.511\n",
              "United States     318.523\n",
              "Name: G7 Population in millions, dtype: float64"
            ]
          },
          "metadata": {},
          "execution_count": 36
        }
      ],
      "source": [
        "g7_pop"
      ]
    },
    {
      "cell_type": "code",
      "execution_count": 37,
      "metadata": {
        "id": "mNiWFDW6Pwnl",
        "outputId": "1e7e450a-10a1-4916-f3a8-f3b590f0e9d7",
        "colab": {
          "base_uri": "https://localhost:8080/"
        }
      },
      "outputs": [
        {
          "output_type": "execute_result",
          "data": {
            "text/plain": [
              "Canada             35467000.0\n",
              "France             63951000.0\n",
              "Germany            80940000.0\n",
              "Italy              60665000.0\n",
              "Japan             127061000.0\n",
              "United Kingdom     64511000.0\n",
              "United States     318523000.0\n",
              "Name: G7 Population in millions, dtype: float64"
            ]
          },
          "metadata": {},
          "execution_count": 37
        }
      ],
      "source": [
        "g7_pop * 1_000_000"
      ]
    },
    {
      "cell_type": "code",
      "execution_count": 38,
      "metadata": {
        "id": "ywuf8rkIPwnl",
        "outputId": "72c0b469-8498-4543-b68a-ef1ad6440dbc",
        "colab": {
          "base_uri": "https://localhost:8080/"
        }
      },
      "outputs": [
        {
          "output_type": "execute_result",
          "data": {
            "text/plain": [
              "107.30257142857144"
            ]
          },
          "metadata": {},
          "execution_count": 38
        }
      ],
      "source": [
        "g7_pop.mean()"
      ]
    },
    {
      "cell_type": "code",
      "execution_count": 39,
      "metadata": {
        "scrolled": true,
        "id": "LljoutEwPwnl",
        "outputId": "2bda301b-af71-4118-9bdf-00a8deaf8b48",
        "colab": {
          "base_uri": "https://localhost:8080/"
        }
      },
      "outputs": [
        {
          "output_type": "execute_result",
          "data": {
            "text/plain": [
              "Canada            3.568603\n",
              "France            4.158117\n",
              "Germany           4.393708\n",
              "Italy             4.105367\n",
              "Japan             4.844667\n",
              "United Kingdom    4.166836\n",
              "United States     5.763695\n",
              "Name: G7 Population in millions, dtype: float64"
            ]
          },
          "metadata": {},
          "execution_count": 39
        }
      ],
      "source": [
        "np.log(g7_pop)"
      ]
    },
    {
      "cell_type": "code",
      "execution_count": 40,
      "metadata": {
        "id": "D4bSV9g2Pwnl",
        "outputId": "2e32aeb8-81d3-4aee-859f-c55c2254d3d7",
        "colab": {
          "base_uri": "https://localhost:8080/"
        }
      },
      "outputs": [
        {
          "output_type": "execute_result",
          "data": {
            "text/plain": [
              "68.51866666666666"
            ]
          },
          "metadata": {},
          "execution_count": 40
        }
      ],
      "source": [
        "g7_pop['France': 'Italy'].mean()"
      ]
    },
    {
      "cell_type": "markdown",
      "metadata": {
        "id": "dDakqTXCPwnl"
      },
      "source": [
        "![green-divider](https://user-images.githubusercontent.com/7065401/52071924-c003ad80-2562-11e9-8297-1c6595f8a7ff.png)\n",
        "\n",
        "## Boolean arrays\n",
        "(Work in the same way as numpy)"
      ]
    },
    {
      "cell_type": "code",
      "execution_count": 41,
      "metadata": {
        "id": "De8himbzPwnl",
        "outputId": "a21ea0e8-8c75-4162-9b12-b7ed7ec16bcf",
        "colab": {
          "base_uri": "https://localhost:8080/"
        }
      },
      "outputs": [
        {
          "output_type": "execute_result",
          "data": {
            "text/plain": [
              "Canada             35.467\n",
              "France             63.951\n",
              "Germany            80.940\n",
              "Italy              60.665\n",
              "Japan             127.061\n",
              "United Kingdom     64.511\n",
              "United States     318.523\n",
              "Name: G7 Population in millions, dtype: float64"
            ]
          },
          "metadata": {},
          "execution_count": 41
        }
      ],
      "source": [
        "g7_pop"
      ]
    },
    {
      "cell_type": "code",
      "execution_count": 42,
      "metadata": {
        "id": "-G8rgLiKPwnl",
        "outputId": "fe388eb1-0011-4742-ae67-fcab9bf8b551",
        "colab": {
          "base_uri": "https://localhost:8080/"
        }
      },
      "outputs": [
        {
          "output_type": "execute_result",
          "data": {
            "text/plain": [
              "Canada            False\n",
              "France            False\n",
              "Germany            True\n",
              "Italy             False\n",
              "Japan              True\n",
              "United Kingdom    False\n",
              "United States      True\n",
              "Name: G7 Population in millions, dtype: bool"
            ]
          },
          "metadata": {},
          "execution_count": 42
        }
      ],
      "source": [
        "g7_pop > 80"
      ]
    },
    {
      "cell_type": "code",
      "execution_count": 43,
      "metadata": {
        "scrolled": true,
        "id": "PVvG3UzRPwnm",
        "outputId": "f8a1e75d-23b8-4b8f-8b67-681c3c220465",
        "colab": {
          "base_uri": "https://localhost:8080/"
        }
      },
      "outputs": [
        {
          "output_type": "execute_result",
          "data": {
            "text/plain": [
              "Germany           80.940\n",
              "Japan            127.061\n",
              "United States    318.523\n",
              "Name: G7 Population in millions, dtype: float64"
            ]
          },
          "metadata": {},
          "execution_count": 43
        }
      ],
      "source": [
        "g7_pop[g7_pop > 80]"
      ]
    },
    {
      "cell_type": "code",
      "execution_count": 44,
      "metadata": {
        "scrolled": true,
        "id": "tr7EMflxPwnm",
        "outputId": "adf4d5d1-d846-4308-9d53-8efccd7881f8",
        "colab": {
          "base_uri": "https://localhost:8080/"
        }
      },
      "outputs": [
        {
          "output_type": "execute_result",
          "data": {
            "text/plain": [
              "Canada            35.467\n",
              "Germany           80.940\n",
              "Japan            127.061\n",
              "United States    318.523\n",
              "Name: G7 Population in millions, dtype: float64"
            ]
          },
          "metadata": {},
          "execution_count": 44
        }
      ],
      "source": [
        "g7_pop[(g7_pop > 80) | (g7_pop < 40)]"
      ]
    },
    {
      "cell_type": "code",
      "execution_count": 45,
      "metadata": {
        "scrolled": true,
        "id": "B4bhp15OPwnm",
        "outputId": "a1fd676c-6ea0-49be-aab1-1d74e674af28",
        "colab": {
          "base_uri": "https://localhost:8080/"
        }
      },
      "outputs": [
        {
          "output_type": "execute_result",
          "data": {
            "text/plain": [
              "Germany     80.940\n",
              "Japan      127.061\n",
              "Name: G7 Population in millions, dtype: float64"
            ]
          },
          "metadata": {},
          "execution_count": 45
        }
      ],
      "source": [
        "g7_pop[(g7_pop > 80) & (g7_pop < 200)]"
      ]
    },
    {
      "cell_type": "markdown",
      "metadata": {
        "id": "PN-PNCllPwnm"
      },
      "source": [
        "![green-divider](https://user-images.githubusercontent.com/7065401/52071924-c003ad80-2562-11e9-8297-1c6595f8a7ff.png)\n",
        "\n",
        "## Modifying series\n"
      ]
    },
    {
      "cell_type": "code",
      "execution_count": 46,
      "metadata": {
        "id": "7wKCwcW0Pwnm"
      },
      "outputs": [],
      "source": [
        "g7_pop['Canada'] = 40.5"
      ]
    },
    {
      "cell_type": "code",
      "execution_count": 47,
      "metadata": {
        "id": "nTGBUmCyPwnm",
        "outputId": "6f241361-c1a9-4244-cda7-f2f74dfcf76c",
        "colab": {
          "base_uri": "https://localhost:8080/"
        }
      },
      "outputs": [
        {
          "output_type": "execute_result",
          "data": {
            "text/plain": [
              "Canada             40.500\n",
              "France             63.951\n",
              "Germany            80.940\n",
              "Italy              60.665\n",
              "Japan             127.061\n",
              "United Kingdom     64.511\n",
              "United States     318.523\n",
              "Name: G7 Population in millions, dtype: float64"
            ]
          },
          "metadata": {},
          "execution_count": 47
        }
      ],
      "source": [
        "g7_pop"
      ]
    },
    {
      "cell_type": "code",
      "execution_count": 48,
      "metadata": {
        "id": "WI_kqrwWPwnm"
      },
      "outputs": [],
      "source": [
        "g7_pop.iloc[-1] = 500"
      ]
    },
    {
      "cell_type": "code",
      "execution_count": 49,
      "metadata": {
        "id": "m2iUYZsCPwnm",
        "outputId": "1532657b-c458-4b57-8f2f-210bbae0c76d",
        "colab": {
          "base_uri": "https://localhost:8080/"
        }
      },
      "outputs": [
        {
          "output_type": "execute_result",
          "data": {
            "text/plain": [
              "Canada             40.500\n",
              "France             63.951\n",
              "Germany            80.940\n",
              "Italy              60.665\n",
              "Japan             127.061\n",
              "United Kingdom     64.511\n",
              "United States     500.000\n",
              "Name: G7 Population in millions, dtype: float64"
            ]
          },
          "metadata": {},
          "execution_count": 49
        }
      ],
      "source": [
        "g7_pop"
      ]
    },
    {
      "cell_type": "code",
      "execution_count": 50,
      "metadata": {
        "id": "Oh9wFwKUPwnn",
        "outputId": "f34c412f-ce03-49c2-9805-a94837bce85a",
        "colab": {
          "base_uri": "https://localhost:8080/"
        }
      },
      "outputs": [
        {
          "output_type": "execute_result",
          "data": {
            "text/plain": [
              "Canada            40.500\n",
              "France            63.951\n",
              "Italy             60.665\n",
              "United Kingdom    64.511\n",
              "Name: G7 Population in millions, dtype: float64"
            ]
          },
          "metadata": {},
          "execution_count": 50
        }
      ],
      "source": [
        "g7_pop[g7_pop < 70]"
      ]
    },
    {
      "cell_type": "code",
      "execution_count": 51,
      "metadata": {
        "id": "PxwgxgLoPwnn"
      },
      "outputs": [],
      "source": [
        "g7_pop[g7_pop < 70] = 99.99"
      ]
    },
    {
      "cell_type": "code",
      "execution_count": 52,
      "metadata": {
        "scrolled": true,
        "id": "x1Pu6ecAPwnn",
        "outputId": "90851369-e7d3-402b-9b2f-9b27cfc26c99",
        "colab": {
          "base_uri": "https://localhost:8080/"
        }
      },
      "outputs": [
        {
          "output_type": "execute_result",
          "data": {
            "text/plain": [
              "Canada             99.990\n",
              "France             99.990\n",
              "Germany            80.940\n",
              "Italy              99.990\n",
              "Japan             127.061\n",
              "United Kingdom     99.990\n",
              "United States     500.000\n",
              "Name: G7 Population in millions, dtype: float64"
            ]
          },
          "metadata": {},
          "execution_count": 52
        }
      ],
      "source": [
        "g7_pop"
      ]
    },
    {
      "cell_type": "markdown",
      "metadata": {
        "id": "0qeOw9P3Pwnn"
      },
      "source": [
        "![purple-divider](https://user-images.githubusercontent.com/7065401/52071927-c1cd7100-2562-11e9-908a-dde91ba14e59.png)\n"
      ]
    }
  ],
  "metadata": {
    "kernelspec": {
      "display_name": "Python 3",
      "language": "python",
      "name": "python3"
    },
    "language_info": {
      "codemirror_mode": {
        "name": "ipython",
        "version": 3
      },
      "file_extension": ".py",
      "mimetype": "text/x-python",
      "name": "python",
      "nbconvert_exporter": "python",
      "pygments_lexer": "ipython3",
      "version": "3.8.1"
    },
    "colab": {
      "name": "1 - Pandas - Series.ipynb",
      "provenance": []
    }
  },
  "nbformat": 4,
  "nbformat_minor": 0
}